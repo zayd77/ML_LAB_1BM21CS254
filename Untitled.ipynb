{
 "cells": [
  {
   "cell_type": "code",
   "execution_count": null,
   "id": "ea1a75b3-2628-49c0-a4d2-fe0dee3b4466",
   "metadata": {},
   "outputs": [],
   "source": [
    "import numpy as np\n",
    "import matplotlib.pyplot as plt\n",
    "\n",
    "def estimate_coef(x, y):\n",
    "    n=np.size(x)\n",
    "    m_x= np.mean(x) \n",
    "    m_y= np.mean(y)\n",
    "    \n",
    "    SS_xy = np.sum(y*x) - n*m_y*m_x\n",
    "    SS_xx = np.sum(x*x) - n*m_x*m_x\n",
    "    \n",
    "    b_1 = SS_xy / SS_xx\n",
    "    b_0 = m_y - b_1*m_x\n",
    "    return (b_0, b_1)\n",
    "\n",
    "def plot_regression_line(x, y, b): #plotting the actual points as scatter plot \n",
    "    plt.scatter(x, y, color = \"m\", marker \"o\", s = 30)\n",
    "    y_pred = b[0] + b[1]*x\n",
    "    plt.plot(x, y_pred, color = \"g\")\n",
    "    plt.xlabel('x') \n",
    "    plt.ylabel('y')\n",
    "    \n",
    "def main():\n",
    "    x= np.array([0, 1, 2, 3, 4, 5, 6, 7, 8, 9]) y= np.array([1, 3, 2, 5, 7, 8, 8, 9, 10, 12])\n",
    "    bestimate_coef(x, y) print(\"Estimated coefficients: \\nb_0 = {} \\ \\nb_1{}\".format(b"
   ]
  }
 ],
 "metadata": {
  "kernelspec": {
   "display_name": "Python 3 (ipykernel)",
   "language": "python",
   "name": "python3"
  },
  "language_info": {
   "codemirror_mode": {
    "name": "ipython",
    "version": 3
   },
   "file_extension": ".py",
   "mimetype": "text/x-python",
   "name": "python",
   "nbconvert_exporter": "python",
   "pygments_lexer": "ipython3",
   "version": "3.11.7"
  }
 },
 "nbformat": 4,
 "nbformat_minor": 5
}
